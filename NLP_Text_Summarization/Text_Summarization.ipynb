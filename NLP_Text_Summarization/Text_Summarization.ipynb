{
 "cells": [
  {
   "cell_type": "markdown",
   "metadata": {
    "id": "JCJvyqyoMbG9"
   },
   "source": [
    "Text summarization is a useful tool for various text applications that aims to highlight important information within a large corpus\n",
    "\n",
    "With the outburst of information on the web, Text summarization helps to extract useful information"
   ]
  },
  {
   "cell_type": "markdown",
   "metadata": {
    "id": "mIjG7Ro9MiC7"
   },
   "source": [
    "**Why text summarization ?**\n",
    "1. Text summarization reduces the reading time\n",
    "2. Makes selection process much easier\n",
    "3. Improves effectiveness of indexing\n",
    "4. Autometic text summarization is less bias than humans\n",
    "5. With the Autometic text summarization, the number of documents  to be proceeded increases"
   ]
  },
  {
   "cell_type": "markdown",
   "metadata": {
    "id": "o7ECaVxxv1jt"
   },
   "source": [
    "# 1) Importing the libraries and Dataset"
   ]
  },
  {
   "cell_type": "code",
   "execution_count": 1,
   "metadata": {
    "id": "LCRlWJZNRHkn"
   },
   "outputs": [],
   "source": [
    "import spacy\n",
    "from spacy.lang.en.stop_words import STOP_WORDS\n",
    "from string import punctuation"
   ]
  },
  {
   "cell_type": "code",
   "execution_count": 2,
   "metadata": {
    "id": "JNHv2gcPR_hp"
   },
   "outputs": [],
   "source": [
    "nlp = spacy.load('en_core_web_sm')"
   ]
  },
  {
   "cell_type": "code",
   "execution_count": 3,
   "metadata": {
    "id": "GrsvqdvrPIpt"
   },
   "outputs": [],
   "source": [
    "text = \"\"\" Maria Sharapova has basically no friends as tennis players on the WTA Tour. The Russian player has no problems in openly speaking about it and in a recent interview she said: ‘I don’t really hide any feelings too much.\n",
    "I think everyone knows this is my job here. When I’m on the courts or when I’m on the court playing, I’m a competitor and I want to beat every single person whether they’re in the locker room or across the net.\n",
    "So I’m not the one to strike up a conversation about the weather and know that in the next few minutes I have to go and try to win a tennis match.\n",
    "I’m a pretty competitive girl. I say my hellos, but I’m not sending any players flowers as well. Uhm, I’m not really friendly or close to many players.\n",
    "I have not a lot of friends away from the courts.’ When she said she is not really close to a lot of players, is that something strategic that she is doing? Is it different on the men’s tour than the women’s tour? ‘No, not at all.\n",
    "I think just because you’re in the same sport doesn’t mean that you have to be friends with everyone just because you’re categorized, you’re a tennis player, so you’re going to get along with tennis players.\n",
    "I think every person has different interests. I have friends that have completely different jobs and interests, and I’ve met them in very different parts of my life.\n",
    "I think everyone just thinks because we’re tennis players we should be the greatest of friends. But ultimately tennis is just a very small part of what we do.\n",
    "There are so many other things that we’re interested in, that we do. \"\"\""
   ]
  },
  {
   "cell_type": "code",
   "execution_count": 4,
   "metadata": {
    "id": "JP-V3YS3RzyP"
   },
   "outputs": [],
   "source": [
    "stopwords = list(STOP_WORDS)"
   ]
  },
  {
   "cell_type": "code",
   "execution_count": 5,
   "metadata": {
    "id": "mbtloSd6Q6RQ"
   },
   "outputs": [],
   "source": [
    "doc = nlp(text) # applied tokenization"
   ]
  },
  {
   "cell_type": "code",
   "execution_count": 6,
   "metadata": {
    "colab": {
     "base_uri": "https://localhost:8080/",
     "height": 54
    },
    "id": "uy1URq-dQQIF",
    "outputId": "3760046e-35f5-4972-af1e-817da8171674"
   },
   "outputs": [
    {
     "name": "stdout",
     "output_type": "stream",
     "text": [
      "[' ', 'Maria', 'Sharapova', 'has', 'basically', 'no', 'friends', 'as', 'tennis', 'players', 'on', 'the', 'WTA', 'Tour', '.', 'The', 'Russian', 'player', 'has', 'no', 'problems', 'in', 'openly', 'speaking', 'about', 'it', 'and', 'in', 'a', 'recent', 'interview', 'she', 'said', ':', '‘', 'I', 'do', 'n’t', 'really', 'hide', 'any', 'feelings', 'too', 'much', '.', '\\n', 'I', 'think', 'everyone', 'knows', 'this', 'is', 'my', 'job', 'here', '.', 'When', 'I', '’m', 'on', 'the', 'courts', 'or', 'when', 'I', '’m', 'on', 'the', 'court', 'playing', ',', 'I', '’m', 'a', 'competitor', 'and', 'I', 'want', 'to', 'beat', 'every', 'single', 'person', 'whether', 'they', '’re', 'in', 'the', 'locker', 'room', 'or', 'across', 'the', 'net', '.', '\\n', 'So', 'I', '’m', 'not', 'the', 'one', 'to', 'strike', 'up', 'a', 'conversation', 'about', 'the', 'weather', 'and', 'know', 'that', 'in', 'the', 'next', 'few', 'minutes', 'I', 'have', 'to', 'go', 'and', 'try', 'to', 'win', 'a', 'tennis', 'match', '.', '\\n', 'I', '’m', 'a', 'pretty', 'competitive', 'girl', '.', 'I', 'say', 'my', 'hellos', ',', 'but', 'I', '’m', 'not', 'sending', 'any', 'players', 'flowers', 'as', 'well', '.', 'Uhm', ',', 'I', '’m', 'not', 'really', 'friendly', 'or', 'close', 'to', 'many', 'players', '.', '\\n', 'I', 'have', 'not', 'a', 'lot', 'of', 'friends', 'away', 'from', 'the', 'courts', '.', '’', 'When', 'she', 'said', 'she', 'is', 'not', 'really', 'close', 'to', 'a', 'lot', 'of', 'players', ',', 'is', 'that', 'something', 'strategic', 'that', 'she', 'is', 'doing', '?', 'Is', 'it', 'different', 'on', 'the', 'men', '’s', 'tour', 'than', 'the', 'women', '’s', 'tour', '?', '‘', 'No', ',', 'not', 'at', 'all', '.', '\\n', 'I', 'think', 'just', 'because', 'you', '’re', 'in', 'the', 'same', 'sport', 'does', 'n’t', 'mean', 'that', 'you', 'have', 'to', 'be', 'friends', 'with', 'everyone', 'just', 'because', 'you', '’re', 'categorized', ',', 'you', '’re', 'a', 'tennis', 'player', ',', 'so', 'you', '’re', 'going', 'to', 'get', 'along', 'with', 'tennis', 'players', '.', '\\n', 'I', 'think', 'every', 'person', 'has', 'different', 'interests', '.', 'I', 'have', 'friends', 'that', 'have', 'completely', 'different', 'jobs', 'and', 'interests', ',', 'and', 'I', '’ve', 'met', 'them', 'in', 'very', 'different', 'parts', 'of', 'my', 'life', '.', '\\n', 'I', 'think', 'everyone', 'just', 'thinks', 'because', 'we', '’re', 'tennis', 'players', 'we', 'should', 'be', 'the', 'greatest', 'of', 'friends', '.', 'But', 'ultimately', 'tennis', 'is', 'just', 'a', 'very', 'small', 'part', 'of', 'what', 'we', 'do', '.', '\\n', 'There', 'are', 'so', 'many', 'other', 'things', 'that', 'we', '’re', 'interested', 'in', ',', 'that', 'we', 'do', '.']\n"
     ]
    }
   ],
   "source": [
    "tokens = [token.text for token in doc]\n",
    "print(tokens)"
   ]
  },
  {
   "cell_type": "code",
   "execution_count": 7,
   "metadata": {
    "id": "_6BRyN8BSWsW"
   },
   "outputs": [],
   "source": [
    "# as you can see in above output, the punctuation and stop words are also the part of tokens"
   ]
  },
  {
   "cell_type": "code",
   "execution_count": 8,
   "metadata": {
    "colab": {
     "base_uri": "https://localhost:8080/",
     "height": 34
    },
    "id": "DXM-TThcSh_-",
    "outputId": "eaaa58b0-de4e-4ef4-d8c9-7418c414280d"
   },
   "outputs": [
    {
     "data": {
      "text/plain": [
       "'!\"#$%&\\'()*+,-./:;<=>?@[\\\\]^_`{|}~'"
      ]
     },
     "execution_count": 8,
     "metadata": {},
     "output_type": "execute_result"
    }
   ],
   "source": [
    "punctuation\n",
    "# list of punctuations"
   ]
  },
  {
   "cell_type": "code",
   "execution_count": 9,
   "metadata": {
    "id": "HyNS1X2sbbi5"
   },
   "outputs": [],
   "source": [
    "# Add new line (\\n) to punctuation\n",
    "punctuation = punctuation + '\\n'"
   ]
  },
  {
   "cell_type": "code",
   "execution_count": 10,
   "metadata": {
    "colab": {
     "base_uri": "https://localhost:8080/",
     "height": 34
    },
    "id": "4LfxzP-sbksp",
    "outputId": "812bb8ee-0b24-4bf9-ea8d-7f47f42bcedc"
   },
   "outputs": [
    {
     "data": {
      "text/plain": [
       "'!\"#$%&\\'()*+,-./:;<=>?@[\\\\]^_`{|}~\\n'"
      ]
     },
     "execution_count": 10,
     "metadata": {},
     "output_type": "execute_result"
    }
   ],
   "source": [
    "punctuation"
   ]
  },
  {
   "cell_type": "markdown",
   "metadata": {
    "id": "TsEWgCadbTNC"
   },
   "source": [
    "# 2) Text Cleaning"
   ]
  },
  {
   "cell_type": "code",
   "execution_count": 11,
   "metadata": {
    "id": "XS11-1IDSz88"
   },
   "outputs": [],
   "source": [
    "word_frequencies = {}\n",
    "\n",
    "for word in doc:\n",
    "  if word.text.lower() not in stopwords:\n",
    "    if word.text.lower() not in punctuation:\n",
    "      if word.text not in word_frequencies.keys():\n",
    "        word_frequencies[word.text] = 1\n",
    "      else:\n",
    "        word_frequencies[word.text] += 1\n",
    "\n",
    "# if any key is being introduced being first time the word of that occurence is onw\n",
    "# when a word is being introduced second time, third time, so on..\n",
    "# it will be incremented by 1"
   ]
  },
  {
   "cell_type": "code",
   "execution_count": 12,
   "metadata": {
    "colab": {
     "base_uri": "https://localhost:8080/",
     "height": 54
    },
    "id": "IkFlSn_hdCXM",
    "outputId": "013ac929-a3bd-46a1-96c4-f78287eaac23"
   },
   "outputs": [
    {
     "name": "stdout",
     "output_type": "stream",
     "text": [
      "{' ': 1, 'Maria': 1, 'Sharapova': 1, 'basically': 1, 'friends': 5, 'tennis': 6, 'players': 6, 'WTA': 1, 'Tour': 1, 'Russian': 1, 'player': 2, 'problems': 1, 'openly': 1, 'speaking': 1, 'recent': 1, 'interview': 1, 'said': 2, '‘': 2, 'hide': 1, 'feelings': 1, 'think': 4, 'knows': 1, 'job': 1, 'courts': 2, 'court': 1, 'playing': 1, 'competitor': 1, 'want': 1, 'beat': 1, 'single': 1, 'person': 2, 'locker': 1, 'room': 1, 'net': 1, 'strike': 1, 'conversation': 1, 'weather': 1, 'know': 1, 'minutes': 1, 'try': 1, 'win': 1, 'match': 1, 'pretty': 1, 'competitive': 1, 'girl': 1, 'hellos': 1, 'sending': 1, 'flowers': 1, 'Uhm': 1, 'friendly': 1, 'close': 2, 'lot': 2, 'away': 1, '’': 1, 'strategic': 1, 'different': 4, 'men': 1, 'tour': 2, 'women': 1, 'sport': 1, 'mean': 1, 'categorized': 1, 'going': 1, 'interests': 2, 'completely': 1, 'jobs': 1, 'met': 1, 'parts': 1, 'life': 1, 'thinks': 1, 'greatest': 1, 'ultimately': 1, 'small': 1, 'things': 1, 'interested': 1}\n"
     ]
    }
   ],
   "source": [
    "print(word_frequencies)"
   ]
  },
  {
   "cell_type": "code",
   "execution_count": 13,
   "metadata": {
    "id": "8dmHnZ3ddKa7"
   },
   "outputs": [],
   "source": [
    "max_frequency = max(word_frequencies.values())"
   ]
  },
  {
   "cell_type": "code",
   "execution_count": 14,
   "metadata": {
    "colab": {
     "base_uri": "https://localhost:8080/",
     "height": 34
    },
    "id": "mrM0LBU9dU9I",
    "outputId": "a741c5c3-df7e-4737-cadf-876907b3eae6"
   },
   "outputs": [
    {
     "data": {
      "text/plain": [
       "6"
      ]
     },
     "execution_count": 14,
     "metadata": {},
     "output_type": "execute_result"
    }
   ],
   "source": [
    "max_frequency"
   ]
  },
  {
   "cell_type": "code",
   "execution_count": 15,
   "metadata": {
    "id": "IRLsFUgtdXH7"
   },
   "outputs": [],
   "source": [
    "# we are going to divide each of the value by 6 (max_frequency)\n",
    "# so the normalized frequency can be achieved"
   ]
  },
  {
   "cell_type": "code",
   "execution_count": 16,
   "metadata": {
    "id": "2Biw2GLMdmVN"
   },
   "outputs": [],
   "source": [
    "for word in word_frequencies.keys():\n",
    "  word_frequencies[word] = word_frequencies[word] / max_frequency"
   ]
  },
  {
   "cell_type": "code",
   "execution_count": 17,
   "metadata": {
    "colab": {
     "base_uri": "https://localhost:8080/",
     "height": 54
    },
    "id": "paEqt_yWdmXv",
    "outputId": "59c31f43-fe04-41e0-d8c5-cb6b4f091ac1"
   },
   "outputs": [
    {
     "name": "stdout",
     "output_type": "stream",
     "text": [
      "{' ': 0.16666666666666666, 'Maria': 0.16666666666666666, 'Sharapova': 0.16666666666666666, 'basically': 0.16666666666666666, 'friends': 0.8333333333333334, 'tennis': 1.0, 'players': 1.0, 'WTA': 0.16666666666666666, 'Tour': 0.16666666666666666, 'Russian': 0.16666666666666666, 'player': 0.3333333333333333, 'problems': 0.16666666666666666, 'openly': 0.16666666666666666, 'speaking': 0.16666666666666666, 'recent': 0.16666666666666666, 'interview': 0.16666666666666666, 'said': 0.3333333333333333, '‘': 0.3333333333333333, 'hide': 0.16666666666666666, 'feelings': 0.16666666666666666, 'think': 0.6666666666666666, 'knows': 0.16666666666666666, 'job': 0.16666666666666666, 'courts': 0.3333333333333333, 'court': 0.16666666666666666, 'playing': 0.16666666666666666, 'competitor': 0.16666666666666666, 'want': 0.16666666666666666, 'beat': 0.16666666666666666, 'single': 0.16666666666666666, 'person': 0.3333333333333333, 'locker': 0.16666666666666666, 'room': 0.16666666666666666, 'net': 0.16666666666666666, 'strike': 0.16666666666666666, 'conversation': 0.16666666666666666, 'weather': 0.16666666666666666, 'know': 0.16666666666666666, 'minutes': 0.16666666666666666, 'try': 0.16666666666666666, 'win': 0.16666666666666666, 'match': 0.16666666666666666, 'pretty': 0.16666666666666666, 'competitive': 0.16666666666666666, 'girl': 0.16666666666666666, 'hellos': 0.16666666666666666, 'sending': 0.16666666666666666, 'flowers': 0.16666666666666666, 'Uhm': 0.16666666666666666, 'friendly': 0.16666666666666666, 'close': 0.3333333333333333, 'lot': 0.3333333333333333, 'away': 0.16666666666666666, '’': 0.16666666666666666, 'strategic': 0.16666666666666666, 'different': 0.6666666666666666, 'men': 0.16666666666666666, 'tour': 0.3333333333333333, 'women': 0.16666666666666666, 'sport': 0.16666666666666666, 'mean': 0.16666666666666666, 'categorized': 0.16666666666666666, 'going': 0.16666666666666666, 'interests': 0.3333333333333333, 'completely': 0.16666666666666666, 'jobs': 0.16666666666666666, 'met': 0.16666666666666666, 'parts': 0.16666666666666666, 'life': 0.16666666666666666, 'thinks': 0.16666666666666666, 'greatest': 0.16666666666666666, 'ultimately': 0.16666666666666666, 'small': 0.16666666666666666, 'things': 0.16666666666666666, 'interested': 0.16666666666666666}\n"
     ]
    }
   ],
   "source": [
    "print(word_frequencies)\n",
    "# all the word frequencies are normalized"
   ]
  },
  {
   "cell_type": "markdown",
   "metadata": {
    "id": "KHmFpBDJeKnD"
   },
   "source": [
    "# 3) Sentence tokenization"
   ]
  },
  {
   "cell_type": "code",
   "execution_count": 18,
   "metadata": {
    "colab": {
     "base_uri": "https://localhost:8080/",
     "height": 195
    },
    "id": "WG-2wIfNeNpb",
    "outputId": "3b5c9f18-0f65-45f6-be03-3ca12b010753"
   },
   "outputs": [
    {
     "name": "stdout",
     "output_type": "stream",
     "text": [
      "[ Maria Sharapova has basically no friends as tennis players on the WTA Tour., The Russian player has no problems in openly speaking about it and in a recent interview she said: ‘I don’t really hide any feelings too much.\n",
      ", I think everyone knows this is my job here., When I’m on the courts or when I’m on the court playing, I’m a competitor and I want to beat every single person whether they’re in the locker room or across the net.\n",
      ", So I’m not the one to strike up a conversation about the weather and know that in the next few minutes I have to go and try to win a tennis match.\n",
      ", I’m a pretty competitive girl., I say my hellos, but I’m not sending any players flowers as well., Uhm, I’m not really friendly or close to many players.\n",
      ", I have not a lot of friends away from the courts.’, When she said she is not really close to a lot of players, is that something strategic that she is doing?, Is it different on the men’s tour than the women’s tour?, ‘No, not at all.\n",
      ", I think just because you’re in the same sport doesn’t mean that you have to be friends with everyone just because you’re categorized, you’re a tennis player, so you’re going to get along with tennis players.\n",
      ", I think every person has different interests., I have friends that have completely different jobs and interests, and I’ve met them in very different parts of my life.\n",
      ", I think everyone just thinks because we’re tennis players we should be the greatest of friends., But ultimately tennis is just a very small part of what we do.\n",
      ", There are so many other things that we’re interested in, that we do.]\n"
     ]
    }
   ],
   "source": [
    "sentence_tokens = [sent for sent in doc.sents]\n",
    "print(sentence_tokens)"
   ]
  },
  {
   "cell_type": "code",
   "execution_count": 19,
   "metadata": {
    "id": "cuAJNsXBeNjz"
   },
   "outputs": [],
   "source": [
    "# calculate sentence score"
   ]
  },
  {
   "cell_type": "code",
   "execution_count": 20,
   "metadata": {
    "id": "MyoYYCVxea5r"
   },
   "outputs": [],
   "source": [
    "sentence_score = {}\n",
    "\n",
    "for sent in sentence_tokens:\n",
    "  for word in sent:\n",
    "    if word.text.lower() in word_frequencies.keys(): # if word_frequencies.keys() present there\n",
    "      if sent not in sentence_score.keys():          # we will add normalized freq counts in each sentence\n",
    "        sentence_score[sent] = word_frequencies[word.text.lower()]\n",
    "      else:\n",
    "        sentence_score[sent] += word_frequencies[word.text.lower()]"
   ]
  },
  {
   "cell_type": "code",
   "execution_count": 21,
   "metadata": {
    "colab": {
     "base_uri": "https://localhost:8080/",
     "height": 177
    },
    "id": "iVsSvn8kfOjf",
    "outputId": "1b3f6254-3a41-48f2-ff13-4e5fd2601010"
   },
   "outputs": [
    {
     "name": "stdout",
     "output_type": "stream",
     "text": [
      "{ Maria Sharapova has basically no friends as tennis players on the WTA Tour.: 3.5000000000000004, The Russian player has no problems in openly speaking about it and in a recent interview she said: ‘I don’t really hide any feelings too much.\n",
      ": 2.1666666666666665, I think everyone knows this is my job here.: 0.9999999999999999, When I’m on the courts or when I’m on the court playing, I’m a competitor and I want to beat every single person whether they’re in the locker room or across the net.\n",
      ": 2.1666666666666665, So I’m not the one to strike up a conversation about the weather and know that in the next few minutes I have to go and try to win a tennis match.\n",
      ": 2.333333333333333, I’m a pretty competitive girl.: 0.5, I say my hellos, but I’m not sending any players flowers as well.: 1.5, Uhm, I’m not really friendly or close to many players.\n",
      ": 1.5, I have not a lot of friends away from the courts.’: 1.8333333333333335, When she said she is not really close to a lot of players, is that something strategic that she is doing?: 2.1666666666666665, Is it different on the men’s tour than the women’s tour?: 1.6666666666666665, ‘No, not at all.\n",
      ": 0.3333333333333333, I think just because you’re in the same sport doesn’t mean that you have to be friends with everyone just because you’re categorized, you’re a tennis player, so you’re going to get along with tennis players.\n",
      ": 5.5, I think every person has different interests.: 1.9999999999999998, I have friends that have completely different jobs and interests, and I’ve met them in very different parts of my life.\n",
      ": 3.3333333333333326, I think everyone just thinks because we’re tennis players we should be the greatest of friends.: 3.833333333333333, But ultimately tennis is just a very small part of what we do.\n",
      ": 1.3333333333333335, There are so many other things that we’re interested in, that we do.: 0.3333333333333333}\n"
     ]
    }
   ],
   "source": [
    "print(sentence_score)"
   ]
  },
  {
   "cell_type": "markdown",
   "metadata": {
    "id": "BZRIY9GYgjls"
   },
   "source": [
    "# 3) Select 30% sentences with maximum score"
   ]
  },
  {
   "cell_type": "code",
   "execution_count": 22,
   "metadata": {
    "id": "2suHrlplfIw_"
   },
   "outputs": [],
   "source": [
    "from heapq import nlargest"
   ]
  },
  {
   "cell_type": "code",
   "execution_count": 23,
   "metadata": {
    "id": "brcE85Lzgsyz"
   },
   "outputs": [],
   "source": [
    "select_length = int(len(sentence_tokens)) * 0.3"
   ]
  },
  {
   "cell_type": "code",
   "execution_count": 24,
   "metadata": {
    "colab": {
     "base_uri": "https://localhost:8080/",
     "height": 34
    },
    "id": "09r_4thbg-3k",
    "outputId": "f3aeadd6-6a4b-43c5-cfc4-a2dc55241fae"
   },
   "outputs": [
    {
     "name": "stdout",
     "output_type": "stream",
     "text": [
      "5.3999999999999995\n"
     ]
    }
   ],
   "source": [
    "print(select_length)\n",
    "# 30% of total sentences is almost 8"
   ]
  },
  {
   "cell_type": "code",
   "execution_count": 25,
   "metadata": {
    "id": "Vwk7SSLWhBqN"
   },
   "outputs": [],
   "source": [
    "# here we have selected 8 sentences that has maximum frequency count"
   ]
  },
  {
   "cell_type": "markdown",
   "metadata": {
    "id": "2S0MgWlqhVaz"
   },
   "source": [
    "# 4) Getting the Summary"
   ]
  },
  {
   "cell_type": "code",
   "execution_count": 26,
   "metadata": {
    "id": "suwbFPK1hTUW"
   },
   "outputs": [],
   "source": [
    "summary = nlargest(n=int(select_length), iterable=sentence_score, key = sentence_score.get)"
   ]
  },
  {
   "cell_type": "code",
   "execution_count": 27,
   "metadata": {
    "colab": {
     "base_uri": "https://localhost:8080/",
     "height": 90
    },
    "id": "wCTsHYF2jLIk",
    "outputId": "f595d5e1-2ace-4276-8c62-743147f9ce1f"
   },
   "outputs": [
    {
     "name": "stdout",
     "output_type": "stream",
     "text": [
      "[I think just because you’re in the same sport doesn’t mean that you have to be friends with everyone just because you’re categorized, you’re a tennis player, so you’re going to get along with tennis players.\n",
      ", I think everyone just thinks because we’re tennis players we should be the greatest of friends.,  Maria Sharapova has basically no friends as tennis players on the WTA Tour., I have friends that have completely different jobs and interests, and I’ve met them in very different parts of my life.\n",
      ", So I’m not the one to strike up a conversation about the weather and know that in the next few minutes I have to go and try to win a tennis match.\n",
      "]\n"
     ]
    }
   ],
   "source": [
    "print(summary)\n",
    "# these 8 sentences represents summary of text"
   ]
  },
  {
   "cell_type": "code",
   "execution_count": 28,
   "metadata": {
    "id": "M-z8kBP-hTZg"
   },
   "outputs": [],
   "source": [
    "# combine these sentences together\n",
    "final_summary = [word.text for word in summary]"
   ]
  },
  {
   "cell_type": "code",
   "execution_count": 29,
   "metadata": {
    "colab": {
     "base_uri": "https://localhost:8080/",
     "height": 160
    },
    "id": "nTUPkb69kPn1",
    "outputId": "432de8e0-00ed-4f18-978a-fd91aa30e09e"
   },
   "outputs": [
    {
     "data": {
      "text/plain": [
       "['I think just because you’re in the same sport doesn’t mean that you have to be friends with everyone just because you’re categorized, you’re a tennis player, so you’re going to get along with tennis players.\\n',\n",
       " 'I think everyone just thinks because we’re tennis players we should be the greatest of friends.',\n",
       " ' Maria Sharapova has basically no friends as tennis players on the WTA Tour.',\n",
       " 'I have friends that have completely different jobs and interests, and I’ve met them in very different parts of my life.\\n',\n",
       " 'So I’m not the one to strike up a conversation about the weather and know that in the next few minutes I have to go and try to win a tennis match.\\n']"
      ]
     },
     "execution_count": 29,
     "metadata": {},
     "output_type": "execute_result"
    }
   ],
   "source": [
    "final_summary"
   ]
  },
  {
   "cell_type": "code",
   "execution_count": 30,
   "metadata": {
    "id": "8uIpvUXKkk99"
   },
   "outputs": [],
   "source": [
    "summary = ' '.join(final_summary)"
   ]
  },
  {
   "cell_type": "code",
   "execution_count": 31,
   "metadata": {
    "colab": {
     "base_uri": "https://localhost:8080/",
     "height": 90
    },
    "id": "KPyDQrX3hTXa",
    "outputId": "770473b0-a61b-4b81-b889-a1abe469df9f"
   },
   "outputs": [
    {
     "name": "stdout",
     "output_type": "stream",
     "text": [
      "I think just because you’re in the same sport doesn’t mean that you have to be friends with everyone just because you’re categorized, you’re a tennis player, so you’re going to get along with tennis players.\n",
      " I think everyone just thinks because we’re tennis players we should be the greatest of friends.  Maria Sharapova has basically no friends as tennis players on the WTA Tour. I have friends that have completely different jobs and interests, and I’ve met them in very different parts of my life.\n",
      " So I’m not the one to strike up a conversation about the weather and know that in the next few minutes I have to go and try to win a tennis match.\n",
      "\n"
     ]
    }
   ],
   "source": [
    "print(summary)"
   ]
  },
  {
   "cell_type": "code",
   "execution_count": 32,
   "metadata": {
    "id": "tNy-X5Bnk5il"
   },
   "outputs": [],
   "source": [
    "# compare length of original text and summary"
   ]
  },
  {
   "cell_type": "code",
   "execution_count": 33,
   "metadata": {
    "colab": {
     "base_uri": "https://localhost:8080/",
     "height": 34
    },
    "id": "seNrxXzzlAGP",
    "outputId": "942e78ad-4453-4cdb-82f2-e50c58725f4d"
   },
   "outputs": [
    {
     "data": {
      "text/plain": [
       "1563"
      ]
     },
     "execution_count": 33,
     "metadata": {},
     "output_type": "execute_result"
    }
   ],
   "source": [
    "len(text) # length of original text"
   ]
  },
  {
   "cell_type": "code",
   "execution_count": 34,
   "metadata": {
    "colab": {
     "base_uri": "https://localhost:8080/",
     "height": 34
    },
    "id": "CWrgZ-NWlBoN",
    "outputId": "9b37e404-d1e9-4515-dc11-cdeb862d696e"
   },
   "outputs": [
    {
     "data": {
      "text/plain": [
       "650"
      ]
     },
     "execution_count": 34,
     "metadata": {},
     "output_type": "execute_result"
    }
   ],
   "source": [
    "len(summary) # length of summary"
   ]
  },
  {
   "cell_type": "code",
   "execution_count": 35,
   "metadata": {
    "id": "R7D1E5a7lK86"
   },
   "outputs": [],
   "source": [
    "# the length of summary is almost 30% of original length of text"
   ]
  }
 ],
 "metadata": {
  "colab": {
   "provenance": [],
   "toc_visible": true
  },
  "kernelspec": {
   "display_name": "Python 3 (ipykernel)",
   "language": "python",
   "name": "python3"
  },
  "language_info": {
   "codemirror_mode": {
    "name": "ipython",
    "version": 3
   },
   "file_extension": ".py",
   "mimetype": "text/x-python",
   "name": "python",
   "nbconvert_exporter": "python",
   "pygments_lexer": "ipython3",
   "version": "3.9.19"
  }
 },
 "nbformat": 4,
 "nbformat_minor": 4
}
