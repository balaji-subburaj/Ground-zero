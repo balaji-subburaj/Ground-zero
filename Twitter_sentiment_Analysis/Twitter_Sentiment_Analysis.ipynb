{
 "cells": [
  {
   "cell_type": "markdown",
   "metadata": {
    "id": "p0ZjjTnjrTJz"
   },
   "source": [
    "# 1) Importing the Libraries"
   ]
  },
  {
   "cell_type": "code",
   "execution_count": 2,
   "metadata": {
    "id": "cRGW8bhNrVlP"
   },
   "outputs": [
    {
     "name": "stdout",
     "output_type": "stream",
     "text": [
      "Collecting textblob\n",
      "  Downloading textblob-0.18.0.post0-py3-none-any.whl.metadata (4.5 kB)\n",
      "Requirement already satisfied: nltk>=3.8 in c:\\users\\public\\anaconda\\envs\\current\\lib\\site-packages (from textblob) (3.9.1)\n",
      "Requirement already satisfied: click in c:\\users\\public\\anaconda\\envs\\current\\lib\\site-packages (from nltk>=3.8->textblob) (8.1.7)\n",
      "Requirement already satisfied: joblib in c:\\users\\public\\anaconda\\envs\\current\\lib\\site-packages (from nltk>=3.8->textblob) (1.4.2)\n",
      "Requirement already satisfied: regex>=2021.8.3 in c:\\users\\public\\anaconda\\envs\\current\\lib\\site-packages (from nltk>=3.8->textblob) (2024.7.24)\n",
      "Requirement already satisfied: tqdm in c:\\users\\public\\anaconda\\envs\\current\\lib\\site-packages (from nltk>=3.8->textblob) (4.66.5)\n",
      "Requirement already satisfied: colorama in c:\\users\\public\\anaconda\\envs\\current\\lib\\site-packages (from click->nltk>=3.8->textblob) (0.4.6)\n",
      "Downloading textblob-0.18.0.post0-py3-none-any.whl (626 kB)\n",
      "   ---------------------------------------- 0.0/626.3 kB ? eta -:--:--\n",
      "   ---------------------------------------- 626.3/626.3 kB 7.7 MB/s eta 0:00:00\n",
      "Installing collected packages: textblob\n",
      "Successfully installed textblob-0.18.0.post0\n",
      "Collecting tweepy\n",
      "  Downloading tweepy-4.14.0-py3-none-any.whl.metadata (3.8 kB)\n",
      "Collecting oauthlib<4,>=3.2.0 (from tweepy)\n",
      "  Downloading oauthlib-3.2.2-py3-none-any.whl.metadata (7.5 kB)\n",
      "Requirement already satisfied: requests<3,>=2.27.0 in c:\\users\\public\\anaconda\\envs\\current\\lib\\site-packages (from tweepy) (2.32.3)\n",
      "Collecting requests-oauthlib<2,>=1.2.0 (from tweepy)\n",
      "  Downloading requests_oauthlib-1.3.1-py2.py3-none-any.whl.metadata (10 kB)\n",
      "Requirement already satisfied: charset-normalizer<4,>=2 in c:\\users\\public\\anaconda\\envs\\current\\lib\\site-packages (from requests<3,>=2.27.0->tweepy) (3.3.2)\n",
      "Requirement already satisfied: idna<4,>=2.5 in c:\\users\\public\\anaconda\\envs\\current\\lib\\site-packages (from requests<3,>=2.27.0->tweepy) (3.7)\n",
      "Requirement already satisfied: urllib3<3,>=1.21.1 in c:\\users\\public\\anaconda\\envs\\current\\lib\\site-packages (from requests<3,>=2.27.0->tweepy) (2.2.2)\n",
      "Requirement already satisfied: certifi>=2017.4.17 in c:\\users\\public\\anaconda\\envs\\current\\lib\\site-packages (from requests<3,>=2.27.0->tweepy) (2024.7.4)\n",
      "Downloading tweepy-4.14.0-py3-none-any.whl (98 kB)\n",
      "Downloading oauthlib-3.2.2-py3-none-any.whl (151 kB)\n",
      "Downloading requests_oauthlib-1.3.1-py2.py3-none-any.whl (23 kB)\n",
      "Installing collected packages: oauthlib, requests-oauthlib, tweepy\n",
      "Successfully installed oauthlib-3.2.2 requests-oauthlib-1.3.1 tweepy-4.14.0\n"
     ]
    }
   ],
   "source": [
    "! pip install textblob\n",
    "! pip install tweepy\n",
    "from textblob import TextBlob\n",
    "# TextBlob is a Python library to process the textual data\n",
    "# It provides a simple API for diving into common natural language processing tasks such as POS tagging, noun phrase extraction, sentiment analysis, classification, etc"
   ]
  },
  {
   "cell_type": "code",
   "execution_count": 3,
   "metadata": {
    "id": "Uy4eNoL58t9n"
   },
   "outputs": [],
   "source": [
    "import sys\n",
    "# The sys module provides information about constants, functions and methods of the Python interpreter"
   ]
  },
  {
   "cell_type": "code",
   "execution_count": 4,
   "metadata": {
    "id": "4LLZws8H9NH0"
   },
   "outputs": [],
   "source": [
    "import tweepy\n",
    "# Tweepy is a Python library for accessing the Twitter API"
   ]
  },
  {
   "cell_type": "code",
   "execution_count": 5,
   "metadata": {
    "id": "m8onPYfGCXF1"
   },
   "outputs": [],
   "source": [
    "import matplotlib.pyplot as plt"
   ]
  },
  {
   "cell_type": "markdown",
   "metadata": {
    "id": "VowX2r0ssJIB"
   },
   "source": [
    "# 2)  Connecting with the Twitter API"
   ]
  },
  {
   "cell_type": "code",
   "execution_count": 22,
   "metadata": {
    "id": "bQzulnuVsLI3"
   },
   "outputs": [],
   "source": [
    "# Importing the keys\n",
    "consumer_key = 'wouFVWqmLZWaU2K8MA9uJm3Az'\n",
    "consumer_secret = '31M4eGYEIt8ubDhnRpuyKFwEPhw39UZlY6HIz33zSH7Msjqn9o'\n",
    "access_token = '1695382306322522112-4UMuGVPVGaSkkwJjfdYpKwQotUm6uL'\n",
    "access_token_secret = 'K3dHHzVkyplXhAW8IyGDDnmq3HG59M09ZgjVR5akAYbEu'\n"
   ]
  },
  {
   "cell_type": "code",
   "execution_count": 23,
   "metadata": {
    "id": "9Yu9hZCPs0RA"
   },
   "outputs": [],
   "source": [
    "# Establish the connection with API\n",
    "auth = tweepy.OAuthHandler(consumer_key, consumer_secret)\n",
    "auth.set_access_token(access_token, access_token_secret)\n",
    "# given authorization to tweepy for accessing the twitter data\n",
    "\n",
    "api = tweepy.API(auth) # geting API"
   ]
  },
  {
   "cell_type": "code",
   "execution_count": 24,
   "metadata": {
    "colab": {
     "base_uri": "https://localhost:8080/",
     "height": 52
    },
    "id": "X4ZNZotJtBm_",
    "outputId": "ac6b2906-6004-4443-d5ab-8935c5428328"
   },
   "outputs": [
    {
     "name": "stdin",
     "output_type": "stream",
     "text": [
      "Enter Keyword/Tag to search about:  Money Heist\n",
      "Enter how many tweets to search:  1000\n"
     ]
    }
   ],
   "source": [
    "# Define variables, search term and number of tweets\n",
    "search_term = input(\"Enter Keyword/Tag to search about: \")\n",
    "no_of_tweets = int(input(\"Enter how many tweets to search: \"))\n",
    "\n",
    "# search_term will allow us to search the term on twitter\n",
    "# and second line will allow us to enter number the number of twits"
   ]
  },
  {
   "cell_type": "code",
   "execution_count": 25,
   "metadata": {
    "id": "If1uO6DttEY3"
   },
   "outputs": [],
   "source": [
    "# Get no_of_tweets and search_term together\n",
    "tweets = tweepy.Cursor(api.search_tweets, q=search_term).items(no_of_tweets)"
   ]
  },
  {
   "cell_type": "code",
   "execution_count": 26,
   "metadata": {},
   "outputs": [
    {
     "name": "stdout",
     "output_type": "stream",
     "text": [
      "<tweepy.cursor.ItemIterator object at 0x0000023EFF7AAF10>\n"
     ]
    }
   ],
   "source": [
    "print(tweets)"
   ]
  },
  {
   "cell_type": "markdown",
   "metadata": {
    "id": "R9EIrO6_tSTP"
   },
   "source": [
    "# 3) Understanding the working of TextBlob"
   ]
  },
  {
   "cell_type": "code",
   "execution_count": 27,
   "metadata": {
    "id": "q6A9wMnwtVZ7"
   },
   "outputs": [],
   "source": [
    "# TextBlob gives the sentiment polarity between -1 to +1\n",
    "# -1 is for negative polarity, 0 is for neutral polarity and +1 is for positive polarity"
   ]
  },
  {
   "cell_type": "code",
   "execution_count": 28,
   "metadata": {
    "colab": {
     "base_uri": "https://localhost:8080/",
     "height": 34
    },
    "id": "ggFS_FhmS1Hg",
    "outputId": "1569df75-a333-4d99-ed29-a46f6fb71282"
   },
   "outputs": [
    {
     "data": {
      "text/plain": [
       "-0.6999999999999998"
      ]
     },
     "execution_count": 28,
     "metadata": {},
     "output_type": "execute_result"
    }
   ],
   "source": [
    "# Negative polarity\n",
    "a = TextBlob(\"I am a bad Cricket player\")\n",
    "a.sentiment.polarity"
   ]
  },
  {
   "cell_type": "code",
   "execution_count": 29,
   "metadata": {
    "colab": {
     "base_uri": "https://localhost:8080/",
     "height": 34
    },
    "id": "znP4XT9UtcLG",
    "outputId": "03761c13-f3c7-4582-cecb-7e2d7ffc5abc"
   },
   "outputs": [
    {
     "data": {
      "text/plain": [
       "0.7"
      ]
     },
     "execution_count": 29,
     "metadata": {},
     "output_type": "execute_result"
    }
   ],
   "source": [
    "# Positive polarity\n",
    "b = TextBlob(\"I am a good Cricket player\")\n",
    "b.sentiment.polarity"
   ]
  },
  {
   "cell_type": "code",
   "execution_count": 30,
   "metadata": {
    "colab": {
     "base_uri": "https://localhost:8080/",
     "height": 34
    },
    "id": "tY3vme9itXZH",
    "outputId": "e7a9c121-dae4-46f1-e319-fbb9f25f1547"
   },
   "outputs": [
    {
     "data": {
      "text/plain": [
       "0.0"
      ]
     },
     "execution_count": 30,
     "metadata": {},
     "output_type": "execute_result"
    }
   ],
   "source": [
    "# Neutral polarity\n",
    "c = TextBlob(\"I am a Cricket player\")\n",
    "c.sentiment.polarity"
   ]
  },
  {
   "cell_type": "markdown",
   "metadata": {
    "id": "ou56yV5VVSCU"
   },
   "source": [
    "# 4) Iterate the data and convert the result in percentage"
   ]
  },
  {
   "cell_type": "code",
   "execution_count": 31,
   "metadata": {
    "id": "Qu8glX79te_J"
   },
   "outputs": [],
   "source": [
    "# Create variables to hold the average polarity\n",
    "\n",
    "positive = 0\n",
    "negative = 0\n",
    "neutral = 0\n",
    "polarity = 0\n",
    "\n",
    "# 'polarity' will be the average polarity of all the twits"
   ]
  },
  {
   "cell_type": "code",
   "execution_count": null,
   "metadata": {
    "id": "WhDjOby3tkVZ",
    "scrolled": true
   },
   "outputs": [],
   "source": [
    "# Iterate with for loop\n",
    "\n",
    "for tweet in tweets:\n",
    "   analysis = TextBlob(tweet.text) # 'tweet.text' number of tweets that we are searching for\n",
    "   polarity += analysis.sentiment.polarity\n",
    "\n",
    "   if(analysis.sentiment.polarity == 0):\n",
    "       neutral += 1\n",
    "\n",
    "   elif(analysis.sentiment.polarity < 0.00):\n",
    "       negative += 1\n",
    "\n",
    "   elif(analysis.sentiment.polarity > 0.00):\n",
    "       positive += 1"
   ]
  },
  {
   "cell_type": "code",
   "execution_count": 33,
   "metadata": {
    "id": "EPVVMQssUrRO"
   },
   "outputs": [],
   "source": [
    "# Define a function to calculate the percentage\n",
    "def percentage(part, whole):\n",
    "    return 100 * float(part)/float(whole)"
   ]
  },
  {
   "cell_type": "code",
   "execution_count": 34,
   "metadata": {
    "colab": {
     "base_uri": "https://localhost:8080/",
     "height": 34
    },
    "id": "HMrx6P6BUtG_",
    "outputId": "ab707355-536d-497d-cf71-3423624c7a3f"
   },
   "outputs": [
    {
     "data": {
      "text/plain": [
       "25.0"
      ]
     },
     "execution_count": 34,
     "metadata": {},
     "output_type": "execute_result"
    }
   ],
   "source": [
    "percentage(5,20)\n",
    "# function is working fine"
   ]
  },
  {
   "cell_type": "code",
   "execution_count": 35,
   "metadata": {
    "id": "HXZVBym3tl3K"
   },
   "outputs": [],
   "source": [
    "# Generate the percentages\n",
    "positive = percentage(positive, no_of_tweets)\n",
    "negative = percentage(negative, no_of_tweets)\n",
    "neutral  = percentage(neutral, no_of_tweets)\n",
    "polarity  = percentage(polarity, no_of_tweets)"
   ]
  },
  {
   "cell_type": "code",
   "execution_count": 36,
   "metadata": {
    "id": "MPWxYNH5tqJQ"
   },
   "outputs": [],
   "source": [
    "# Limit decimal upto 2 places\n",
    "positive = format(positive, '.2f')\n",
    "negative = format(negative, '.2f')\n",
    "neutral = format(neutral, '.2f')"
   ]
  },
  {
   "cell_type": "markdown",
   "metadata": {
    "id": "fLFcsqbnW730"
   },
   "source": [
    "# 5) Getting the result of analysis"
   ]
  },
  {
   "cell_type": "code",
   "execution_count": 37,
   "metadata": {
    "colab": {
     "base_uri": "https://localhost:8080/",
     "height": 52
    },
    "id": "nWFtELkpttih",
    "outputId": "9b7a23c2-62fc-458e-8f5c-5d695ef2e149"
   },
   "outputs": [
    {
     "name": "stdout",
     "output_type": "stream",
     "text": [
      "Reaction of the people on Money Heist By analyzing 1000 Tweets \n",
      " is 'Neutral'\n"
     ]
    }
   ],
   "source": [
    "# Print analysis of result\n",
    "\n",
    "print(\"Reaction of the people on \" + search_term +\n",
    "      \" By analyzing \" + str(no_of_tweets) + \" Tweets \")\n",
    "\n",
    "if (polarity == 0):\n",
    "    print(\" is 'Neutral'\")\n",
    "\n",
    "elif (polarity < 0.00):\n",
    "    print(\"is 'Negative'\")\n",
    "\n",
    "elif (polarity > 0.00):\n",
    "    print(\"is 'Positive'\")"
   ]
  },
  {
   "cell_type": "code",
   "execution_count": null,
   "metadata": {
    "colab": {
     "base_uri": "https://localhost:8080/",
     "height": 297
    },
    "id": "S4sBghSOtvTm",
    "outputId": "870853de-5b32-4d7d-a4fb-dbb17c8f5809"
   },
   "outputs": [],
   "source": [
    "# Print Pie Chart\n",
    "\n",
    "labels = ['Positive ['+str(positive)+'%]',\n",
    "          'Neutral ['+str(neutral)+'%]',\n",
    "          'Negative ['+str(negative)+'%]']\n",
    "\n",
    "sizes = [positive, neutral, negative]\n",
    "colors = ['yellowgreen', 'gold', 'red']\n",
    "\n",
    "patches, texts = plt.pie(sizes, colors = colors, startangle = 90)\n",
    "plt.legend(patches, labels, loc = \"best\")\n",
    "plt.title('Reaction of the people on '\n",
    "          + search_term +' by analyzing '\n",
    "          + str(no_of_tweets) +' Tweets is:')\n",
    "plt.axis('equal')\n",
    "plt.tight_layout()\n",
    "plt.show()"
   ]
  },
  {
   "cell_type": "code",
   "execution_count": null,
   "metadata": {},
   "outputs": [],
   "source": []
  }
 ],
 "metadata": {
  "colab": {
   "provenance": []
  },
  "kernelspec": {
   "display_name": "Python 3 (ipykernel)",
   "language": "python",
   "name": "python3"
  },
  "language_info": {
   "codemirror_mode": {
    "name": "ipython",
    "version": 3
   },
   "file_extension": ".py",
   "mimetype": "text/x-python",
   "name": "python",
   "nbconvert_exporter": "python",
   "pygments_lexer": "ipython3",
   "version": "3.9.19"
  }
 },
 "nbformat": 4,
 "nbformat_minor": 4
}
